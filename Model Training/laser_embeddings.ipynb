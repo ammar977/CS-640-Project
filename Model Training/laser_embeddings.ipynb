{
 "cells": [
  {
   "cell_type": "code",
   "execution_count": 25,
   "id": "e77cca1e",
   "metadata": {},
   "outputs": [],
   "source": [
    "import pandas as pd\n",
    "import os\n",
    "from laserembeddings import Laser\n",
    "import numpy as np\n",
    "# import preprocessor \n",
    "# import nltk\n",
    "# nltk.download('punkt')\n",
    "# from nltk.stem import WordNetLemmatizer\n",
    "# from sklearn.feature_extraction.text import TfidfVectorizer\n",
    "from sklearn.metrics import classification_report\n",
    "# import fasttext\n",
    "# import csv\n",
    "# import datetime\n",
    "# from bs4 import BeautifulSoup\n",
    "# import re\n",
    "# import itertools\n",
    "# import emoji\n",
    "# from xgboost import XGBClassifier\n",
    "# from sklearn.multiclass import OneVsRestClassifier\n",
    "from sklearn.linear_model import LogisticRegression\n",
    "# from sklearn.svm import SVC"
   ]
  },
  {
   "cell_type": "code",
   "execution_count": 2,
   "id": "0d745025",
   "metadata": {},
   "outputs": [
    {
     "name": "stdout",
     "output_type": "stream",
     "text": [
      "total train samples :  6755\n",
      "fear       2142\n",
      "anger      1617\n",
      "joy        1537\n",
      "sadness    1459\n",
      "Name: label, dtype: int64\n"
     ]
    }
   ],
   "source": [
    "folder_path = \"../Data Twitter/Train/\"\n",
    "dfs = []\n",
    "for filename in os.listdir(folder_path):\n",
    "    if filename.endswith('txt'):\n",
    "        path = os.path.join(folder_path,filename)\n",
    "        df = pd.read_csv(path,sep='\\t',header=None)\n",
    "        df = df.drop(columns=[df.columns[0],df.columns[3]])\n",
    "        dfs.append(df)\n",
    "\n",
    "df_train = pd.concat(dfs)\n",
    "df_train.columns = ['text','label']\n",
    "df_train['label_numeric'] = df_train['label'].astype('category').cat.codes\n",
    "\n",
    "\n",
    "folder_path = \"../Data Twitter/Test/\"\n",
    "dfs = []\n",
    "for filename in os.listdir(folder_path):\n",
    "    if filename.endswith('txt'):\n",
    "        path = os.path.join(folder_path,filename)\n",
    "        df = pd.read_csv(path,sep='\\t',header=None)\n",
    "        df = df.drop(columns=[df.columns[0],df.columns[3]])\n",
    "        dfs.append(df)\n",
    "\n",
    "df_train_2 = pd.concat(dfs)\n",
    "df_train_2.columns = ['text','label']\n",
    "df_train_2['label_numeric'] = df_train_2['label'].astype('category').cat.codes\n",
    "\n",
    "df_train = df_train.append(df_train_2).reset_index()\n",
    "print('total train samples : ',len(df_train))\n",
    "print(df_train['label'].value_counts())\n",
    "\n",
    "class_mapping = list(df_train['label'].astype('category').cat.categories)"
   ]
  },
  {
   "cell_type": "code",
   "execution_count": 3,
   "id": "27129b0d",
   "metadata": {},
   "outputs": [
    {
     "name": "stdout",
     "output_type": "stream",
     "text": [
      "total train samples :  694\n",
      "fear       220\n",
      "anger      168\n",
      "joy        158\n",
      "sadness    148\n",
      "Name: label, dtype: int64\n"
     ]
    }
   ],
   "source": [
    "folder_path = \"../Data Twitter/Dev/\"\n",
    "dfs = []\n",
    "for filename in os.listdir(folder_path):\n",
    "    if filename.endswith('txt'):\n",
    "        path = os.path.join(folder_path,filename)\n",
    "        df = pd.read_csv(path,sep='\\t',header=None)\n",
    "        df = df.drop(columns=[df.columns[0],df.columns[3]])\n",
    "        dfs.append(df)\n",
    "\n",
    "df_dev = pd.concat(dfs)\n",
    "df_dev.columns = ['text','label']\n",
    "df_dev['label_numeric'] = df_dev['label'].astype('category').cat.codes\n",
    "\n",
    "folder_path = \"../Data Twitter/Dev/without intensity\"\n",
    "dfs = []\n",
    "for filename in os.listdir(folder_path):\n",
    "    if filename.endswith('txt'):\n",
    "        path = os.path.join(folder_path,filename)\n",
    "        df = pd.read_csv(path,sep='\\t',header=None)\n",
    "        df = df.drop(columns=[df.columns[0],df.columns[3]])\n",
    "        dfs.append(df)\n",
    "\n",
    "df_dev_2 = pd.concat(dfs)\n",
    "df_dev_2.columns = ['text','label']\n",
    "df_dev_2['label_numeric'] = df_dev_2['label'].astype('category').cat.codes\n",
    "\n",
    "df_dev = df_dev.append(df_dev_2).reset_index()\n",
    "print('total train samples : ',len(df_dev))\n",
    "print(df_dev['label'].value_counts())"
   ]
  },
  {
   "cell_type": "markdown",
   "id": "72262c1d",
   "metadata": {},
   "source": [
    "## Prepare Embeddings"
   ]
  },
  {
   "cell_type": "code",
   "execution_count": 5,
   "id": "8e4e2c6c",
   "metadata": {},
   "outputs": [],
   "source": [
    "laser = Laser()"
   ]
  },
  {
   "cell_type": "code",
   "execution_count": 23,
   "id": "12af3b3b",
   "metadata": {},
   "outputs": [],
   "source": [
    "X_train = laser.embed_sentences(df_train['text'].tolist(),'en')\n",
    "X_test = laser.embed_sentences(df_dev['text'].tolist(),'en')"
   ]
  },
  {
   "cell_type": "code",
   "execution_count": 26,
   "id": "e5c88084",
   "metadata": {},
   "outputs": [],
   "source": [
    "Y_train = df_train['label'].tolist()\n",
    "Y_test = df_dev['label'].tolist()"
   ]
  },
  {
   "cell_type": "markdown",
   "id": "65943558",
   "metadata": {},
   "source": [
    "## Train Model"
   ]
  },
  {
   "cell_type": "code",
   "execution_count": 29,
   "id": "914d9dab",
   "metadata": {},
   "outputs": [
    {
     "data": {
      "text/plain": [
       "LogisticRegression(max_iter=200)"
      ]
     },
     "execution_count": 29,
     "metadata": {},
     "output_type": "execute_result"
    }
   ],
   "source": [
    "model = LogisticRegression(max_iter=200)\n",
    "model.fit(X_train,Y_train)"
   ]
  },
  {
   "cell_type": "code",
   "execution_count": 30,
   "id": "9c368fee",
   "metadata": {},
   "outputs": [
    {
     "name": "stdout",
     "output_type": "stream",
     "text": [
      "              precision    recall  f1-score   support\n",
      "\n",
      "       anger       0.64      0.63      0.63       168\n",
      "        fear       0.64      0.73      0.68       220\n",
      "         joy       0.66      0.70      0.68       158\n",
      "     sadness       0.64      0.49      0.55       148\n",
      "\n",
      "    accuracy                           0.65       694\n",
      "   macro avg       0.65      0.64      0.64       694\n",
      "weighted avg       0.65      0.65      0.64       694\n",
      "\n"
     ]
    }
   ],
   "source": [
    "Y_pred = model.predict(X_test)\n",
    "print(classification_report(Y_test,Y_pred))"
   ]
  }
 ],
 "metadata": {
  "kernelspec": {
   "display_name": "Python 3",
   "language": "python",
   "name": "python3"
  },
  "language_info": {
   "codemirror_mode": {
    "name": "ipython",
    "version": 3
   },
   "file_extension": ".py",
   "mimetype": "text/x-python",
   "name": "python",
   "nbconvert_exporter": "python",
   "pygments_lexer": "ipython3",
   "version": "3.8.8"
  }
 },
 "nbformat": 4,
 "nbformat_minor": 5
}
