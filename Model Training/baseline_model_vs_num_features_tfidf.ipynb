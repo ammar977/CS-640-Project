{
 "cells": [
  {
   "cell_type": "code",
   "execution_count": 15,
   "id": "1b215d6c",
   "metadata": {},
   "outputs": [],
   "source": [
    "import pandas as pd\n",
    "import numpy as np\n",
    "import os\n",
    "import preprocessor \n",
    "import re\n",
    "import string\n",
    "import spacy\n",
    "from spacy.lang.en import stop_words as spacy_stopwords\n",
    "from sklearn.feature_extraction.text import TfidfVectorizer\n",
    "from sklearn.linear_model import LogisticRegression\n",
    "from sklearn.metrics import classification_report,accuracy_score\n",
    "import matplotlib.pyplot as plt\n",
    "plt.style.use('default')"
   ]
  },
  {
   "cell_type": "markdown",
   "id": "b7ef1b81",
   "metadata": {},
   "source": [
    "# Load Data"
   ]
  },
  {
   "cell_type": "code",
   "execution_count": 6,
   "id": "ebb909e7",
   "metadata": {},
   "outputs": [
    {
     "name": "stdout",
     "output_type": "stream",
     "text": [
      "total train samples :  3613\n",
      "fear       1147\n",
      "anger       857\n",
      "joy         823\n",
      "sadness     786\n",
      "Name: label, dtype: int64\n"
     ]
    }
   ],
   "source": [
    "folder_path = \"../Data Twitter/Train/\"\n",
    "dfs = []\n",
    "for filename in os.listdir(folder_path):\n",
    "    if filename.endswith('txt'):\n",
    "        path = os.path.join(folder_path,filename)\n",
    "        df = pd.read_csv(path,sep='\\t',header=None)\n",
    "        df = df.drop(columns=[df.columns[0],df.columns[3]])\n",
    "        dfs.append(df)\n",
    "\n",
    "df_train = pd.concat(dfs)\n",
    "df_train.columns = ['text','label']\n",
    "df_train['label_numeric'] = df_train['label'].astype('category').cat.codes\n",
    "print('total train samples : ',len(df_train))\n",
    "print(df_train['label'].value_counts())\n",
    "\n",
    "class_mapping = list(df_train['label'].astype('category').cat.categories)"
   ]
  },
  {
   "cell_type": "code",
   "execution_count": 7,
   "id": "95d9df0e",
   "metadata": {},
   "outputs": [
    {
     "name": "stdout",
     "output_type": "stream",
     "text": [
      "total train samples :  347\n",
      "fear       110\n",
      "anger       84\n",
      "joy         79\n",
      "sadness     74\n",
      "Name: label, dtype: int64\n"
     ]
    }
   ],
   "source": [
    "folder_path = \"../Data Twitter/Dev/\"\n",
    "dfs = []\n",
    "for filename in os.listdir(folder_path):\n",
    "    if filename.endswith('txt'):\n",
    "        path = os.path.join(folder_path,filename)\n",
    "        df = pd.read_csv(path,sep='\\t',header=None)\n",
    "        df = df.drop(columns=[df.columns[0],df.columns[3]])\n",
    "        dfs.append(df)\n",
    "\n",
    "df_dev = pd.concat(dfs)\n",
    "df_dev.columns = ['text','label']\n",
    "df_dev['label_numeric'] = df_dev['label'].astype('category').cat.codes\n",
    "print('total train samples : ',len(df_dev))\n",
    "print(df_dev['label'].value_counts())"
   ]
  },
  {
   "cell_type": "markdown",
   "id": "ab864b92",
   "metadata": {},
   "source": [
    "# Preprocess Data"
   ]
  },
  {
   "cell_type": "code",
   "execution_count": 8,
   "id": "fe292941",
   "metadata": {},
   "outputs": [],
   "source": [
    "preprocessor.set_options(preprocessor.OPT.URL, preprocessor.OPT.MENTION)  # removes mentions and URLs only\n",
    "stop_words = spacy_stopwords.STOP_WORDS\n",
    "punctuations = string.punctuation\n",
    "\n",
    "def preprocess(text):\n",
    "    text = preprocessor.clean(text)\n",
    "    text = re.sub(r'\\W+', ' ', text)  # remove non-alphanumeric characters\n",
    "    # replace numbers with the word 'number'\n",
    "    text = re.sub(r\"\\d+\", \"number\", text)\n",
    "    text = text.lower()  # lower case everything\n",
    "    \n",
    "    return text.strip() # remove redundant spaces"
   ]
  },
  {
   "cell_type": "code",
   "execution_count": 9,
   "id": "fd609c7d",
   "metadata": {},
   "outputs": [],
   "source": [
    "df_train['text'] = df_train['text'].apply(preprocess)\n",
    "df_dev['text'] = df_dev['text'].apply(preprocess)"
   ]
  },
  {
   "cell_type": "markdown",
   "id": "a74cd62d",
   "metadata": {},
   "source": [
    "# Prepare Embeddings"
   ]
  },
  {
   "cell_type": "code",
   "execution_count": 28,
   "id": "6e006980",
   "metadata": {},
   "outputs": [],
   "source": [
    "def get_tfidf_embeddings(num_features):\n",
    "    model_tfidf = TfidfVectorizer(max_features=num_features)\n",
    "    model_tfidf.fit(df_train['text'])\n",
    "\n",
    "    X_train = model_tfidf.transform(df_train['text']).toarray()\n",
    "    X_test = model_tfidf.transform(df_dev['text']).toarray()\n",
    "    \n",
    "    return X_train,X_test"
   ]
  },
  {
   "cell_type": "markdown",
   "id": "542a62fc",
   "metadata": {},
   "source": [
    "# Accuracy vs Num Features"
   ]
  },
  {
   "cell_type": "code",
   "execution_count": 29,
   "id": "408cebb2",
   "metadata": {},
   "outputs": [],
   "source": [
    "accs = []\n",
    "for nf in range(200,2500,100):\n",
    "    X_train,X_test = get_tfidf_embeddings(nf)\n",
    "    Y_train = df_train['label_numeric']\n",
    "    Y_test = df_dev['label_numeric']\n",
    "    model = LogisticRegression()\n",
    "    model.fit(X_train,Y_train)\n",
    "    Y_pred = model.predict(X_test)\n",
    "    accs.append(accuracy_score(Y_test,Y_pred))"
   ]
  },
  {
   "cell_type": "code",
   "execution_count": 31,
   "id": "11fce517",
   "metadata": {},
   "outputs": [
    {
     "data": {
      "image/png": "[encoded data removed]",
      "text/plain": [
       "<Figure size 640x480 with 1 Axes>"
      ]
     },
     "metadata": {},
     "output_type": "display_data"
    }
   ],
   "source": [
    "xs = list(range(200,2500,100))\n",
    "plt.plot(xs,accs,'-')\n",
    "plt.xlabel('num tfidf features')\n",
    "plt.ylabel('accuracy')\n",
    "plt.show()"
   ]
  }
 ],
 "metadata": {
  "kernelspec": {
   "display_name": "Python 3 (ipykernel)",
   "language": "python",
   "name": "python3"
  },
  "language_info": {
   "codemirror_mode": {
    "name": "ipython",
    "version": 3
   },
   "file_extension": ".py",
   "mimetype": "text/x-python",
   "name": "python",
   "nbconvert_exporter": "python",
   "pygments_lexer": "ipython3",
   "version": "3.9.7"
  }
 },
 "nbformat": 4,
 "nbformat_minor": 5
}
